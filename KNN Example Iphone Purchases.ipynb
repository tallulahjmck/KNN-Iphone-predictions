{
 "cells": [
  {
   "cell_type": "code",
   "execution_count": 1,
   "id": "a3564e67",
   "metadata": {},
   "outputs": [],
   "source": [
    "import pandas as pd\n",
    "import numpy as np\n",
    "import matplotlib.pyplot as plt\n",
    "\n",
    "from sklearn.model_selection import train_test_split\n",
    "from sklearn.neighbors import KNeighborsClassifier"
   ]
  },
  {
   "cell_type": "code",
   "execution_count": 2,
   "id": "b503d2e1",
   "metadata": {},
   "outputs": [],
   "source": [
    "# Load the dataset using pd.read_csv\n",
    "dataset = pd.read_csv(\"C:/Users/tallu/Downloads/iphone_purchase_records.csv\")"
   ]
  },
  {
   "cell_type": "code",
   "execution_count": 3,
   "id": "db3f4675",
   "metadata": {},
   "outputs": [],
   "source": [
    "# Convert categorical variable 'Gender' to numerical using one-hot encoding\n",
    "dataset = pd.get_dummies(dataset, columns=['Gender'], drop_first=True)"
   ]
  },
  {
   "cell_type": "code",
   "execution_count": 4,
   "id": "b5a01023",
   "metadata": {},
   "outputs": [],
   "source": [
    "headernames = ['Gender', 'Age', 'Salary', 'Purchase Iphone']"
   ]
  },
  {
   "cell_type": "code",
   "execution_count": 5,
   "id": "c19778bd",
   "metadata": {},
   "outputs": [],
   "source": [
    "X = dataset.iloc[:, :-1].values\n",
    "y = dataset.iloc[:, -1].values"
   ]
  },
  {
   "cell_type": "code",
   "execution_count": 6,
   "id": "4e3493ab",
   "metadata": {},
   "outputs": [],
   "source": [
    "X_train, X_test, y_train, y_test, indices_train, indices_test = train_test_split(\n",
    "    X, y, range(len(y)), test_size=0.40, random_state=42\n",
    ")"
   ]
  },
  {
   "cell_type": "code",
   "execution_count": 7,
   "id": "d1483e8a",
   "metadata": {},
   "outputs": [],
   "source": [
    "knn = KNeighborsClassifier(n_neighbors=5)"
   ]
  },
  {
   "cell_type": "code",
   "execution_count": 8,
   "id": "4bf7ee78",
   "metadata": {},
   "outputs": [
    {
     "data": {
      "text/plain": [
       "KNeighborsClassifier()"
      ]
     },
     "execution_count": 8,
     "metadata": {},
     "output_type": "execute_result"
    }
   ],
   "source": [
    "knn.fit(X_train, y_train)"
   ]
  },
  {
   "cell_type": "code",
   "execution_count": 9,
   "id": "18ad8173",
   "metadata": {},
   "outputs": [],
   "source": [
    "# Assuming the previous code is already executed\n",
    "\n",
    "# Step 1: Make Predictions\n",
    "y_pred = knn.predict(X_test)"
   ]
  },
  {
   "cell_type": "code",
   "execution_count": 10,
   "id": "e3727569",
   "metadata": {},
   "outputs": [],
   "source": [
    "test_data_with_predictions = pd.DataFrame(X_test, columns=['Age', 'Salary', 'Gender'])\n",
    "test_data_with_predictions['Predicted_Purchase'] = y_pred\n",
    "test_data_with_predictions['Actual_Purchase'] = y_test\n",
    "test_data_with_predictions.index = indices_test"
   ]
  },
  {
   "cell_type": "code",
   "execution_count": 11,
   "id": "740084bb",
   "metadata": {},
   "outputs": [],
   "source": [
    "pd.set_option('display.max_rows', None)\n",
    "pd.set_option('display.max_columns', None)"
   ]
  },
  {
   "cell_type": "code",
   "execution_count": 12,
   "id": "62d602d7",
   "metadata": {},
   "outputs": [
    {
     "name": "stdout",
     "output_type": "stream",
     "text": [
      "     Age  Salary  Gender  Predicted_Purchase  Actual_Purchase\n",
      "209   46   22000       0                   1                1\n",
      "280   59   88000       1                   0                1\n",
      "33    28   44000       0                   1                1\n",
      "210   48   96000       1                   1                1\n",
      "93    29   28000       0                   0                1\n",
      "84    30   62000       0                   1                1\n",
      "329   47  107000       1                   0                1\n",
      "94    29   83000       0                   1                1\n",
      "266   40   75000       0                   1                0\n",
      "126   42   65000       0                   1                0\n",
      "9     35   65000       0                   1                1\n",
      "361   53   34000       1                   1                1\n",
      "56    23   48000       0                   1                1\n",
      "72    20   23000       0                   1                1\n",
      "132   30   87000       0                   0                0\n",
      "42    35  108000       0                   0                0\n",
      "278   52   38000       1                   1                1\n",
      "376   46   74000       0                   0                1\n",
      "231   39   42000       0                   0                0\n",
      "385   56   60000       1                   1                0\n",
      "77    22   27000       0                   0                1\n",
      "15    29   80000       0                   0                0\n",
      "391   47   23000       1                   1                0\n",
      "271   59   76000       1                   1                1\n",
      "0     19   19000       0                   0                0\n",
      "396   51   23000       1                   1                0\n",
      "114   42   80000       0                   0                0\n",
      "225   37   53000       0                   0                0\n",
      "262   55  125000       1                   0                1\n",
      "104   19   21000       0                   0                1\n",
      "395   46   41000       1                   0                1\n",
      "193   19   70000       0                   0                0\n",
      "261   36  144000       1                   0                0\n",
      "57    28   79000       0                   0                0\n",
      "232   40  107000       1                   0                0\n",
      "116   35   75000       0                   1                0\n",
      "113   37   55000       0                   0                0\n",
      "342   38   65000       0                   1                1\n",
      "158   26   30000       0                   1                0\n",
      "141   18   68000       0                   1                1\n",
      "381   48   33000       1                   1                0\n",
      "55    24   55000       0                   1                1\n",
      "76    18   52000       0                   0                0\n",
      "25    47   20000       1                   1                0\n",
      "82    20   49000       0                   1                0\n",
      "382   44  139000       1                   1                1\n",
      "148   29   61000       0                   1                0\n",
      "181   31   71000       0                   0                1\n",
      "22    48   41000       1                   0                0\n",
      "173   34   43000       0                   0                1\n",
      "46    25   79000       0                   0                0\n",
      "321   53   82000       1                   1                1\n",
      "338   38   55000       0                   0                1\n",
      "70    25   80000       0                   0                0\n",
      "374   37   80000       0                   0                1\n",
      "39    27   31000       0                   0                1\n",
      "223   60  102000       1                   1                0\n",
      "172   26  118000       0                   1                1\n",
      "30    31   74000       0                   0                0\n",
      "152   31   76000       0                   0                0\n",
      "124   41   51000       0                   1                1\n",
      "294   35   57000       0                   0                1\n",
      "255   52   90000       1                   0                1\n",
      "78    28   87000       0                   0                1\n",
      "101   28   59000       0                   0                0\n",
      "31    27  137000       1                   1                1\n",
      "352   42   90000       1                   0                1\n",
      "268   47  144000       1                   0                1\n",
      "394   39   59000       0                   0                1\n",
      "73    33  113000       0                   1                1\n",
      "320   52  138000       1                   1                1\n",
      "140   19   85000       0                   1                0\n",
      "5     27   58000       0                   0                0\n",
      "45    23   20000       0                   0                0\n",
      "388   47   34000       1                   1                0\n",
      "246   35   50000       0                   1                1\n",
      "227   56  133000       1                   1                0\n",
      "369   54   26000       1                   1                1\n",
      "176   35   47000       0                   1                1\n",
      "289   37   78000       1                   0                1\n",
      "3     27   57000       0                   0                1\n",
      "18    46   28000       1                   0                0\n",
      "202   39  134000       1                   1                1\n",
      "250   44   39000       0                   1                1\n",
      "274   57   26000       1                   1                1\n",
      "63    32  120000       1                   1                0\n",
      "248   41   52000       0                   0                0\n",
      "301   48   74000       1                   0                0\n",
      "108   26   86000       0                   0                0\n",
      "90    22   81000       0                   1                0\n",
      "233   49   86000       1                   0                0\n",
      "335   36   54000       0                   0                1\n",
      "118   40   59000       0                   0                0\n",
      "220   41   80000       0                   0                1\n",
      "180   26   16000       0                   0                0\n",
      "314   39   79000       0                   0                1\n",
      "373   59  130000       1                   1                0\n",
      "380   42   64000       0                   1                0\n",
      "239   53  143000       1                   0                1\n",
      "75    34  112000       1                   1                0\n",
      "247   57  122000       1                   0                1\n",
      "110   39   71000       0                   0                1\n",
      "16    47   25000       1                   1                0\n",
      "66    24   19000       0                   0                0\n",
      "153   36   50000       0                   1                1\n",
      "7     32  150000       1                   0                1\n",
      "19    48   29000       1                   1                1\n",
      "137   30  107000       1                   0                0\n",
      "355   60   34000       1                   1                0\n",
      "349   38   61000       0                   0                0\n",
      "131   33   31000       0                   0                0\n",
      "387   39   71000       0                   0                0\n",
      "292   55   39000       1                   1                0\n",
      "386   49   39000       1                   1                1\n",
      "297   43  112000       1                   1                1\n",
      "60    27   20000       0                   0                0\n",
      "79    26   17000       0                   0                1\n",
      "285   37   93000       1                   0                1\n",
      "305   42   54000       0                   0                0\n",
      "281   35   61000       0                   0                0\n",
      "157   29   75000       0                   1                0\n",
      "109   38   80000       0                   0                1\n",
      "17    45   26000       1                   1                0\n",
      "347   54  108000       1                   1                1\n",
      "24    46   23000       1                   1                0\n",
      "175   23   28000       0                   0                1\n",
      "351   37   75000       0                   1                0\n",
      "332   42   65000       0                   1                0\n",
      "167   35   71000       0                   0                1\n",
      "245   51  146000       1                   0                1\n",
      "311   39   96000       1                   0                0\n",
      "145   24   89000       0                   0                1\n",
      "258   58   95000       1                   0                1\n",
      "177   25   22000       0                   0                0\n",
      "119   41   59000       0                   0                0\n",
      "194   28   89000       0                   0                0\n",
      "229   42   80000       1                   0                1\n",
      "265   42  108000       1                   0                1\n",
      "218   46   96000       0                   0                1\n",
      "307   47  113000       1                   1                1\n",
      "36    33   28000       0                   0                1\n",
      "139   19   25000       0                   1                0\n",
      "291   49   89000       1                   0                0\n",
      "155   31   15000       0                   0                1\n",
      "196   30   79000       0                   0                1\n",
      "284   48  141000       0                   1                0\n",
      "59    32  117000       0                   1                1\n",
      "111   37   71000       0                   0                1\n",
      "165   18   86000       0                   0                1\n",
      "363   42   79000       0                   0                1\n",
      "6     27   84000       0                   1                1\n",
      "333   40   65000       0                   1                0\n",
      "275   57   74000       1                   0                0\n",
      "150   26   15000       0                   0                1\n",
      "10    26   80000       0                   0                1\n",
      "192   29   43000       0                   0                0\n",
      "103   33  149000       1                   0                1\n",
      "81    39   42000       0                   0                0\n",
      "316   54  104000       1                   0                1\n",
      "398   36   33000       0                   1                0\n"
     ]
    }
   ],
   "source": [
    "print(test_data_with_predictions)"
   ]
  },
  {
   "cell_type": "code",
   "execution_count": 13,
   "id": "bef498ef",
   "metadata": {},
   "outputs": [],
   "source": [
    "# Step 2: Evaluate the Model\n",
    "from sklearn.metrics import accuracy_score, classification_report"
   ]
  },
  {
   "cell_type": "code",
   "execution_count": 14,
   "id": "7244610f",
   "metadata": {},
   "outputs": [
    {
     "name": "stdout",
     "output_type": "stream",
     "text": [
      "Accuracy: 49.38%\n"
     ]
    }
   ],
   "source": [
    "accuracy = accuracy_score(y_test, y_pred)\n",
    "print(f'Accuracy: {accuracy * 100:.2f}%')"
   ]
  },
  {
   "cell_type": "code",
   "execution_count": 15,
   "id": "c116e311",
   "metadata": {},
   "outputs": [
    {
     "name": "stdout",
     "output_type": "stream",
     "text": [
      "              precision    recall  f1-score   support\n",
      "\n",
      "           0       0.47      0.58      0.52        76\n",
      "           1       0.52      0.42      0.46        84\n",
      "\n",
      "    accuracy                           0.49       160\n",
      "   macro avg       0.50      0.50      0.49       160\n",
      "weighted avg       0.50      0.49      0.49       160\n",
      "\n"
     ]
    }
   ],
   "source": [
    "# Additional Evaluation Metrics (optional)\n",
    "print(classification_report(y_test, y_pred))"
   ]
  },
  {
   "cell_type": "code",
   "execution_count": null,
   "id": "5834080a",
   "metadata": {},
   "outputs": [],
   "source": []
  },
  {
   "cell_type": "code",
   "execution_count": null,
   "id": "925d0499",
   "metadata": {},
   "outputs": [],
   "source": []
  }
 ],
 "metadata": {
  "kernelspec": {
   "display_name": "Python 3 (ipykernel)",
   "language": "python",
   "name": "python3"
  },
  "language_info": {
   "codemirror_mode": {
    "name": "ipython",
    "version": 3
   },
   "file_extension": ".py",
   "mimetype": "text/x-python",
   "name": "python",
   "nbconvert_exporter": "python",
   "pygments_lexer": "ipython3",
   "version": "3.9.7"
  }
 },
 "nbformat": 4,
 "nbformat_minor": 5
}
